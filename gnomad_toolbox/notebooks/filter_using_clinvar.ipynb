{
 "cells": [
  {
   "cell_type": "markdown",
   "id": "4a01210b",
   "metadata": {},
   "source": [
    "# Filter gnomAD data using ClinVar data"
   ]
  },
  {
   "cell_type": "markdown",
   "id": "8e713032",
   "metadata": {},
   "source": [
    "## Import modules"
   ]
  },
  {
   "cell_type": "code",
   "execution_count": 5,
   "id": "e69953f7",
   "metadata": {
    "ExecuteTime": {
     "end_time": "2024-12-06T18:04:56.165634Z",
     "start_time": "2024-12-06T18:04:55.603516Z"
    }
   },
   "outputs": [],
   "source": [
    "import hail as hl\n",
    "\n",
    "from gnomad_toolbox.load_data import get_gnomad_release\n",
    "from gnomad_toolbox.filtering.clinvar import filter_variants_by_clinvar\n"
   ]
  },
  {
   "cell_type": "code",
   "execution_count": 10,
   "id": "b3c44396-5ee1-4263-91f8-78bdb9417bab",
   "metadata": {},
   "outputs": [
    {
     "name": "stderr",
     "output_type": "stream",
     "text": [
      "Welcome to\n",
      "     __  __     <>__\n",
      "    / /_/ /__  __/ /\n",
      "   / __  / _ `/ / /\n",
      "  /_/ /_/\\_,_/_/_/   version 0.2.133-4c60fddb171a\n",
      "LOGGING: writing to /Users/kchao/code/gnomad-toolbox/gnomad_toolbox/notebooks/hail-20250627-1004-0.2.133-4c60fddb171a.log\n"
     ]
    }
   ],
   "source": [
    "hl.init(backend=\"local\")"
   ]
  },
  {
   "cell_type": "markdown",
   "id": "725f9a57",
   "metadata": {},
   "source": [
    "## Filter to P, LP, or VUS variants in a given gene"
   ]
  },
  {
   "cell_type": "code",
   "execution_count": 17,
   "id": "9f8e1ba4",
   "metadata": {},
   "outputs": [
    {
     "name": "stderr",
     "output_type": "stream",
     "text": [
      "06/27/2025 10:24:17 AM (gnomad.utils.filtering 456): No Gencode Table or version was supplied, using Gencode version v39\n",
      "06/27/2025 10:24:29 AM (gnomad.utils.filtering 531): Since 1 is less than or equal to 'max_collect_intervals', collecting all intervals...\n",
      "06/27/2025 10:24:52 AM (gnomad.utils.filtering 531): Since 305 is less than or equal to 'max_collect_intervals', collecting all intervals...\n"
     ]
    },
    {
     "data": {
      "text/plain": [
       "1276"
      ]
     },
     "execution_count": 17,
     "metadata": {},
     "output_type": "execute_result"
    }
   ],
   "source": [
    "brca1_clinvar = filter_variants_by_clinvar(\n",
    "    genes=\"BRCA1\",\n",
    "    download_clinvar=False,\n",
    ")\n",
    "brca1_clinvar.count()"
   ]
  }
 ],
 "metadata": {
  "kernelspec": {
   "display_name": "gnomad-toolbox",
   "language": "python",
   "name": "python3"
  },
  "language_info": {
   "codemirror_mode": {
    "name": "ipython",
    "version": 3
   },
   "file_extension": ".py",
   "mimetype": "text/x-python",
   "name": "python",
   "nbconvert_exporter": "python",
   "pygments_lexer": "ipython3",
   "version": "3.11.11"
  },
  "toc": {
   "base_numbering": 1,
   "nav_menu": {
    "height": "613.99px",
    "width": "526.312px"
   },
   "number_sections": false,
   "sideBar": true,
   "skip_h1_title": true,
   "title_cell": "Table of Contents",
   "title_sidebar": "Contents",
   "toc_cell": true,
   "toc_position": {
    "height": "calc(100% - 180px)",
    "left": "10px",
    "top": "150px",
    "width": "241.438px"
   },
   "toc_section_display": true,
   "toc_window_display": true
  },
  "widgets": {
   "application/vnd.jupyter.widget-state+json": {
    "state": {},
    "version_major": 2,
    "version_minor": 0
   }
  }
 },
 "nbformat": 4,
 "nbformat_minor": 5
}
